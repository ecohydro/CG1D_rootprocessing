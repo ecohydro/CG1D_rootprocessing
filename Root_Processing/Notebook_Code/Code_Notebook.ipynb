{
 "cells": [
  {
   "cell_type": "markdown",
   "metadata": {},
   "source": [
    "# For default settings:\n",
    "1. Change 'wd' to where the 'Root_Processing' code file is.\n",
    "2. Open 'user_config.txt' file in 'Root_Processing', and change all data address locations to where your data files are."
   ]
  },
  {
   "cell_type": "code",
   "execution_count": null,
   "metadata": {
    "collapsed": false
   },
   "outputs": [],
   "source": [
    "import sys\n",
    "wd = '/Users/kdecarlo/Python_scripts/Root_Processing'\n",
    "sys.path.append(wd+'/Analyses')\n",
    "sys.path.append(wd+'/Misc')\n",
    "\n",
    "from sampledata import sampledata\n",
    "sampledata(wd)"
   ]
  },
  {
   "cell_type": "code",
   "execution_count": 1,
   "metadata": {
    "collapsed": false
   },
   "outputs": [
    {
     "name": "stdout",
     "output_type": "stream",
     "text": [
      "stitch - % complete:  \n",
      "Elapsed time: 0.1 seconds.\n",
      "\n",
      "crop - % complete:  \n",
      "Elapsed time: 0.0 seconds.\n",
      "\n",
      "wc - % complete:  \n",
      "Elapsed time: 0.0 seconds.\n",
      "\n",
      "mask - % complete:  0 1 2 3 4 5 6 7 8 9 10 11 12 13 14 15 16 17 18 19 20 21 22 23 24 25 26 27 28 29 30 31 32 33 34 35 36 37 38 39 40 41 42 43 44 45 46 47 48 49 50 51 52 53 54 55 56 57 58 59 60 61 62 63 64 65 66 67 68 69 70 71 72 73 74 75 76 77 78 79 80 81 82 83 84 85 86 87 88 89 90 91 92 93 94 95 96 97 98 99 \n",
      "Elapsed time: 4.4 seconds.\n",
      "\n",
      "imagefilter - % complete:  \n",
      "Elapsed time: 0.2 seconds.\n",
      "\n",
      "distmap: contours - % complete:  0 1 2 3 4 5 6 7 8 9 10 11 12 13 14 15 16 17 18 19 20 21 22 23 24 25 26 27 28 29 30 31 32 33 34 35 36 37 38 39 40 41 42 43 44 45 46 47 48 49 50 51 52 53 54 55 56 57 58 59 60 61 62 63 64 65 66 67 68 69 70 71 72 73 74 75 76 77 78 79 80 81 82 83 84 85 86 87 88 89 90 91 92 93 94 95 96 97 98 99 \n",
      "Elapsed time: 0.6 seconds.\n",
      "\n",
      "distmap: soil dist - % complete:  0 1 2 3 4 5 6 7 8 9 10 11 12 13 14 15 16 17 18 19 20 21 22 23 24 25 26 27 28 29 30 31 32 33 34 35 36 37 38 39 40 41 42 43 44 45 46 47 48 49 50 51 52 53 54 55 56 57 58 59 60 61 62 63 64 65 66 67 68 69 70 71 72 73 74 75 76 77 78 79 80 81 82 83 84 85 86 87 88 89 90 91 92 93 94 95 96 97 98 99 \n",
      "Elapsed time: 9.2 seconds.\n",
      "\n",
      "radwc - % complete:  0 2 4 6 8 10 12 14 16 18 20 22 24 26 28 30 32 34 36 38 40 42 44 46 48 50 52 54 56 58 60 62 64 66 68 70 72 74 76 78 80 82 84 86 88 90 92 94 96 98 \n",
      "Elapsed time: 0.3 seconds.\n",
      "\n",
      "thickness map - % complete:  0 1 2 3 4 5 6 7 8 9 10 11 12 13 14 15 16 17 18 19 20 21 22 23 24 25 26 27 28 29 30 31 32 33 34 35 36 37 38 39 40 41 42 43 44 45 46 47 48 49 50 51 52 53 54 55 56 57 58 59 60 61 62 63 64 65 66 67 68 69 70 71 72 73 74 75 76 77 78 79 80 81 82 83 84 85 86 87 88 89 90 91 92 93 94 95 96 97 98 99 \n",
      "Elapsed time: 19.2 seconds.\n",
      "\n",
      "rootimage - % complete:  \n",
      "Elapsed time: 0.0 seconds.\n",
      "\n"
     ]
    }
   ],
   "source": [
    "#Default settings\n",
    "import sys\n",
    "wd = '/Users/kdecarlo/Python_scripts/Root_Processing'\n",
    "sys.path.append(wd+'/Analyses')\n",
    "sys.path.append(wd+'/Misc')\n",
    "from RP_run import RP_run\n",
    "analysis_list = ['RP_stitch', 'RP_crop', 'RP_wc', 'RP_mask', 'RP_imagefilter','RP_distmap', 'RP_radwc', 'RP_thickness', 'RP_rootimage']\n",
    "RP_run(wd, analysis_list, override = 1)"
   ]
  },
  {
   "cell_type": "code",
   "execution_count": null,
   "metadata": {
    "collapsed": false
   },
   "outputs": [],
   "source": [
    "#Manual parameter editing: useful for looping through several image types\n",
    "import sys\n",
    "wd = '/Users/kdecarlo/Desktop/Root_Processing'\n",
    "sys.path.append(wd+'/Analyses')\n",
    "sys.path.append(wd+'/Misc')\n",
    "from run import run\n",
    "\n",
    "for i in range(1, 2):\n",
    "    parameters = {'image_filename':'/Users/kdecarlo/Desktop/ROI/tiff/%02d.tiff' %i,\n",
    "                  'output_filename':'/Users/kdecarlo/Desktop/ROI/tiff_mask/%02d.tiff' %i\n",
    "                  }\n",
    "    analysis_list = ['mask']\n",
    "    run(wd, analysis_list, parameters, override = 1)\n",
    "\n",
    "    parameters = {'image_filename':'/Users/kdecarlo/Desktop/ROI/tiff_mask/%02d.tiff' %i,\n",
    "                  'output_filename':'/Users/kdecarlo/Desktop/ROI/tiff_topo/%02d.tiff' %i,\n",
    "                  'medfilterval':5\n",
    "                  }\n",
    "    analysis_list = ['topologyfilter']\n",
    "    run(wd, analysis_list, parameters, override = 1)\n",
    "    \n",
    "    \n",
    "\n",
    "#output_fileformat = ['Ch_8_initial', 'Ch_4_initial']\n",
    "#fileformat = ['20161128_Ch_8_Ch_4_0160', '20161128_Ch_8_Ch_4_0160']\n",
    "#stitch_order = ([3,4,15,16,17,18,8,9,10,11,1,2,3,4], [3,4,18,19,20,21,11,12,13,14,4,5,6,7])"
   ]
  },
  {
   "cell_type": "code",
   "execution_count": null,
   "metadata": {
    "collapsed": true
   },
   "outputs": [],
   "source": []
  }
 ],
 "metadata": {
  "anaconda-cloud": {},
  "kernelspec": {
   "display_name": "Python [Root]",
   "language": "python",
   "name": "Python [Root]"
  },
  "language_info": {
   "codemirror_mode": {
    "name": "ipython",
    "version": 3
   },
   "file_extension": ".py",
   "mimetype": "text/x-python",
   "name": "python",
   "nbconvert_exporter": "python",
   "pygments_lexer": "ipython3",
   "version": "3.5.2"
  }
 },
 "nbformat": 4,
 "nbformat_minor": 0
}
