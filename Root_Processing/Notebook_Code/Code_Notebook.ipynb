{
 "cells": [
  {
   "cell_type": "code",
   "execution_count": 2,
   "metadata": {
    "collapsed": false
   },
   "outputs": [
    {
     "name": "stdout",
     "output_type": "stream",
     "text": [
      "stitch - % complete:  \n",
      "Elapsed time: 2.9 seconds.\n",
      "\n",
      "wc - % complete:  \n",
      "Elapsed time: 1.8 seconds.\n",
      "\n"
     ]
    }
   ],
   "source": [
    "#Default settings\n",
    "import sys\n",
    "wd = '/Users/kdecarlo/Python_scripts/Root_Processing'\n",
    "sys.path.append(wd+'/Analyses')\n",
    "sys.path.append(wd+'/Misc')\n",
    "from run import run\n",
    "#analysis_list = ['stitch', 'crop', 'wc', 'mask', 'imagefilter', 'distmap', 'radwc']\n",
    "analysis_list = ['stitch', 'crop', 'wc']\n",
    "run(wd, analysis_list, override = 1)\n",
    "#from skimage.morphology import skeletonize"
   ]
  },
  {
   "cell_type": "code",
   "execution_count": null,
   "metadata": {
    "collapsed": false
   },
   "outputs": [],
   "source": [
    "#Manual parameter editing: useful for looping through several image types\n",
    "import sys\n",
    "wd = '/Users/kdecarlo/Desktop/Root_Processing'\n",
    "sys.path.append(wd+'/Analyses')\n",
    "sys.path.append(wd+'/Misc')\n",
    "from run import run\n",
    "\n",
    "for i in range(1, 2):\n",
    "    parameters = {'image_filename':'/Users/kdecarlo/Desktop/ROI/tiff/%02d.tiff' %i,\n",
    "                  'output_filename':'/Users/kdecarlo/Desktop/ROI/tiff_mask/%02d.tiff' %i\n",
    "                  }\n",
    "    analysis_list = ['mask']\n",
    "    run(wd, analysis_list, parameters, override = 1)\n",
    "\n",
    "    parameters = {'image_filename':'/Users/kdecarlo/Desktop/ROI/tiff_mask/%02d.tiff' %i,\n",
    "                  'output_filename':'/Users/kdecarlo/Desktop/ROI/tiff_topo/%02d.tiff' %i,\n",
    "                  'medfilterval':5\n",
    "                  }\n",
    "    analysis_list = ['topologyfilter']\n",
    "    run(wd, analysis_list, parameters, override = 1)\n",
    "    \n",
    "    \n",
    "\n",
    "#output_fileformat = ['Ch_8_initial', 'Ch_4_initial']\n",
    "#fileformat = ['20161128_Ch_8_Ch_4_0160', '20161128_Ch_8_Ch_4_0160']\n",
    "#stitch_order = ([3,4,15,16,17,18,8,9,10,11,1,2,3,4], [3,4,18,19,20,21,11,12,13,14,4,5,6,7])"
   ]
  },
  {
   "cell_type": "code",
   "execution_count": null,
   "metadata": {
    "collapsed": true
   },
   "outputs": [],
   "source": []
  }
 ],
 "metadata": {
  "anaconda-cloud": {},
  "kernelspec": {
   "display_name": "Python [Root]",
   "language": "python",
   "name": "Python [Root]"
  },
  "language_info": {
   "codemirror_mode": {
    "name": "ipython",
    "version": 3
   },
   "file_extension": ".py",
   "mimetype": "text/x-python",
   "name": "python",
   "nbconvert_exporter": "python",
   "pygments_lexer": "ipython3",
   "version": "3.5.2"
  }
 },
 "nbformat": 4,
 "nbformat_minor": 0
}
