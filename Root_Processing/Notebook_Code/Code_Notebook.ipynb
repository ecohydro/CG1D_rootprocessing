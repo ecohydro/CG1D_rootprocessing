{
 "cells": [
  {
   "cell_type": "code",
   "execution_count": null,
   "metadata": {
    "collapsed": false
   },
   "outputs": [],
   "source": [
    "#Default settings\n",
    "import sys\n",
    "wd = '/Users/kdecarlo/Desktop/Root_Processing'\n",
    "sys.path.append(wd+'/Analyses')\n",
    "sys.path.append(wd+'/Misc')\n",
    "from run import run\n",
    "analysis_list = ['stitch', 'crop', 'wc', 'mask', 'imagefilter', 'distmap', 'radwc']\n",
    "run(wd, analysis_list, override = 1)"
   ]
  },
  {
   "cell_type": "code",
   "execution_count": 1,
   "metadata": {
    "collapsed": false
   },
   "outputs": [
    {
     "name": "stdout",
     "output_type": "stream",
     "text": [
      "mask either has no input files, or already has output files.  Skipping...\n",
      "overriding skip...\n",
      "mask - % complete:  0 1 2 3 4 5 6 7 8 9 10 11 12 13 14 15 16 17 18 19 20 21 22 23 24 25 26 27 28 29 30 31 32 33 34 35 36 37 38 39 40 41 42 43 44 45 46 47 48 49 50 51 52 53 54 55 56 57 58 59 60 61 62 63 64 65 66 67 68 69 70 71 72 73 74 75 76 77 78 79 80 81 82 83 84 85 86 87 88 89 90 91 92 93 94 95 96 97 98 99 \n",
      "Elapsed time: 0.5 seconds.\n",
      "\n"
     ]
    }
   ],
   "source": [
    "#Manual parameter editing: useful for looping through several image types\n",
    "import sys\n",
    "wd = '/Users/kdecarlo/Desktop/Root_Processing'\n",
    "sys.path.append(wd+'/Analyses')\n",
    "sys.path.append(wd+'/Misc')\n",
    "from run import run\n",
    "\n",
    "for i in range(1, 2):\n",
    "    parameters = {'image_filename':'/Users/kdecarlo/Desktop/ROI/tiff/%02d.tiff' %i,\n",
    "                  'output_filename':'/Users/kdecarlo/Desktop/ROI/tiff_mask/%02d.tiff' %i\n",
    "                  }\n",
    "    analysis_list = ['mask']\n",
    "    run(wd, analysis_list, parameters, override = 1)\n",
    "\n",
    "    parameters = {'image_filename':'/Users/kdecarlo/Desktop/ROI/tiff_mask/%02d.tiff' %i,\n",
    "                  'output_filename':'/Users/kdecarlo/Desktop/ROI/tiff_topo/%02d.tiff' %i,\n",
    "                  'medfilterval':5\n",
    "                  }\n",
    "    analysis_list = ['topologyfilter']\n",
    "    run(wd, analysis_list, parameters, override = 1)\n",
    "    \n",
    "    \n",
    "\n",
    "#output_fileformat = ['Ch_8_initial', 'Ch_4_initial']\n",
    "#fileformat = ['20161128_Ch_8_Ch_4_0160', '20161128_Ch_8_Ch_4_0160']\n",
    "#stitch_order = ([3,4,15,16,17,18,8,9,10,11,1,2,3,4], [3,4,18,19,20,21,11,12,13,14,4,5,6,7])"
   ]
  },
  {
   "cell_type": "code",
   "execution_count": null,
   "metadata": {
    "collapsed": true
   },
   "outputs": [],
   "source": []
  }
 ],
 "metadata": {
  "anaconda-cloud": {},
  "kernelspec": {
   "display_name": "Python [Root]",
   "language": "python",
   "name": "Python [Root]"
  },
  "language_info": {
   "codemirror_mode": {
    "name": "ipython",
    "version": 3
   },
   "file_extension": ".py",
   "mimetype": "text/x-python",
   "name": "python",
   "nbconvert_exporter": "python",
   "pygments_lexer": "ipython3",
   "version": "3.5.2"
  }
 },
 "nbformat": 4,
 "nbformat_minor": 0
}
