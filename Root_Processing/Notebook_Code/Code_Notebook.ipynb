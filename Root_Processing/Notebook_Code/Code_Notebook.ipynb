{
 "cells": [
  {
   "cell_type": "markdown",
   "metadata": {},
   "source": [
    "# For default settings:\n",
    "1. Change 'wd' to where the 'Root_Processing' code file is.\n",
    "2. Open 'user_config.txt' file in 'Root_Processing', and change all data address locations to where your data files are."
   ]
  },
  {
   "cell_type": "code",
   "execution_count": 8,
   "metadata": {
    "collapsed": true
   },
   "outputs": [],
   "source": [
    "import sys\n",
    "wd = '/Users/kdecarlo/Python_scripts/Root_Processing'\n",
    "sys.path.append(wd+'/Analyses')\n",
    "from testanalysis import testanalysis\n",
    "testanalysis(wd)"
   ]
  },
  {
   "cell_type": "code",
   "execution_count": 1,
   "metadata": {
    "collapsed": false
   },
   "outputs": [
    {
     "ename": "ValueError",
     "evalue": "Override term is not given a valid value.  Please enter either 0 (no override) or 1 (override).",
     "output_type": "error",
     "traceback": [
      "\u001b[0;31m---------------------------------------------------------------------------\u001b[0m",
      "\u001b[0;31mValueError\u001b[0m                                Traceback (most recent call last)",
      "\u001b[0;32m<ipython-input-1-88c9b0a5c1fe>\u001b[0m in \u001b[0;36m<module>\u001b[0;34m()\u001b[0m\n\u001b[1;32m      8\u001b[0m \u001b[0manalysis_list\u001b[0m \u001b[0;34m=\u001b[0m \u001b[0;34m[\u001b[0m\u001b[0;34m'RP_stitch'\u001b[0m\u001b[0;34m,\u001b[0m \u001b[0;34m'RP_crop'\u001b[0m\u001b[0;34m,\u001b[0m \u001b[0;34m'RP_wc'\u001b[0m\u001b[0;34m,\u001b[0m \u001b[0;34m'RP_mask'\u001b[0m\u001b[0;34m,\u001b[0m \u001b[0;34m'RP_imagefilter'\u001b[0m\u001b[0;34m,\u001b[0m \u001b[0;34m'RP_rootimage'\u001b[0m\u001b[0;34m]\u001b[0m\u001b[0;34m\u001b[0m\u001b[0m\n\u001b[1;32m      9\u001b[0m \u001b[0manalysis_list\u001b[0m \u001b[0;34m=\u001b[0m \u001b[0;34m[\u001b[0m\u001b[0;34m'RP_stitch'\u001b[0m\u001b[0;34m]\u001b[0m\u001b[0;34m\u001b[0m\u001b[0m\n\u001b[0;32m---> 10\u001b[0;31m \u001b[0mRP_run\u001b[0m\u001b[0;34m(\u001b[0m\u001b[0mwd\u001b[0m\u001b[0;34m,\u001b[0m \u001b[0manalysis_list\u001b[0m\u001b[0;34m,\u001b[0m \u001b[0moverride\u001b[0m \u001b[0;34m=\u001b[0m \u001b[0;36m1.0\u001b[0m\u001b[0;34m)\u001b[0m\u001b[0;34m\u001b[0m\u001b[0m\n\u001b[0m",
      "\u001b[0;32m/Users/kdecarlo/Python_scripts/Root_Processing/Misc/RP_run.py\u001b[0m in \u001b[0;36mRP_run\u001b[0;34m(wd, analysis_list, parameters_, override)\u001b[0m\n\u001b[1;32m    170\u001b[0m     \u001b[0;32mif\u001b[0m \u001b[0mtype\u001b[0m\u001b[0;34m(\u001b[0m\u001b[0moverride\u001b[0m\u001b[0;34m)\u001b[0m \u001b[0;32mis\u001b[0m \u001b[0mint\u001b[0m \u001b[0;32mor\u001b[0m \u001b[0mtype\u001b[0m\u001b[0;34m(\u001b[0m\u001b[0moverride\u001b[0m\u001b[0;34m)\u001b[0m \u001b[0;32mis\u001b[0m \u001b[0mfloat\u001b[0m\u001b[0;34m:\u001b[0m\u001b[0;34m\u001b[0m\u001b[0m\n\u001b[1;32m    171\u001b[0m         \u001b[0;32mif\u001b[0m \u001b[0moverride\u001b[0m \u001b[0;32mis\u001b[0m \u001b[0;32mnot\u001b[0m \u001b[0;36m1\u001b[0m \u001b[0;32mand\u001b[0m \u001b[0moverride\u001b[0m \u001b[0;32mis\u001b[0m \u001b[0;32mnot\u001b[0m \u001b[0;36m0\u001b[0m\u001b[0;34m:\u001b[0m\u001b[0;34m\u001b[0m\u001b[0m\n\u001b[0;32m--> 172\u001b[0;31m             \u001b[0;32mraise\u001b[0m \u001b[0mValueError\u001b[0m\u001b[0;34m(\u001b[0m\u001b[0;34m'Override term is not given a valid value.  Please enter either 0 (no override) or 1 (override).'\u001b[0m\u001b[0;34m)\u001b[0m\u001b[0;34m\u001b[0m\u001b[0m\n\u001b[0m\u001b[1;32m    173\u001b[0m \u001b[0;34m\u001b[0m\u001b[0m\n\u001b[1;32m    174\u001b[0m     \u001b[0;32mif\u001b[0m \u001b[0mtype\u001b[0m\u001b[0;34m(\u001b[0m\u001b[0moverride\u001b[0m\u001b[0;34m)\u001b[0m \u001b[0;32mis\u001b[0m \u001b[0mstr\u001b[0m\u001b[0;34m:\u001b[0m\u001b[0;34m\u001b[0m\u001b[0m\n",
      "\u001b[0;31mValueError\u001b[0m: Override term is not given a valid value.  Please enter either 0 (no override) or 1 (override)."
     ]
    }
   ],
   "source": [
    "#Default settings\n",
    "import sys\n",
    "wd = '/Users/kdecarlo/Python_scripts/Root_Processing'\n",
    "sys.path.append(wd+'/Analyses')\n",
    "sys.path.append(wd+'/Misc')\n",
    "from RP_run import RP_run\n",
    "analysis_list = ['stitch', 'crop', 'wc', 'mask', 'imagefilter', 'distmap', 'radwc']\n",
    "analysis_list = ['RP_stitch', 'RP_crop', 'RP_wc', 'RP_mask', 'RP_imagefilter', 'RP_rootimage']\n",
    "analysis_list = ['RP_stitch']\n",
    "RP_run(wd, analysis_list, override = 1)"
   ]
  },
  {
   "cell_type": "code",
   "execution_count": null,
   "metadata": {
    "collapsed": false
   },
   "outputs": [],
   "source": [
    "import numpy as np\n",
    "analysis_list = 'RP_stitch'\n",
    "#np.shape(analysis_list)\n",
    "#analysis_list[1]\n",
    "type(analysis_list)"
   ]
  },
  {
   "cell_type": "code",
   "execution_count": null,
   "metadata": {
    "collapsed": false
   },
   "outputs": [],
   "source": [
    "#Manual parameter editing: useful for looping through several image types\n",
    "import sys\n",
    "wd = '/Users/kdecarlo/Desktop/Root_Processing'\n",
    "sys.path.append(wd+'/Analyses')\n",
    "sys.path.append(wd+'/Misc')\n",
    "from run import run\n",
    "\n",
    "for i in range(1, 2):\n",
    "    parameters = {'image_filename':'/Users/kdecarlo/Desktop/ROI/tiff/%02d.tiff' %i,\n",
    "                  'output_filename':'/Users/kdecarlo/Desktop/ROI/tiff_mask/%02d.tiff' %i\n",
    "                  }\n",
    "    analysis_list = ['mask']\n",
    "    run(wd, analysis_list, parameters, override = 1)\n",
    "\n",
    "    parameters = {'image_filename':'/Users/kdecarlo/Desktop/ROI/tiff_mask/%02d.tiff' %i,\n",
    "                  'output_filename':'/Users/kdecarlo/Desktop/ROI/tiff_topo/%02d.tiff' %i,\n",
    "                  'medfilterval':5\n",
    "                  }\n",
    "    analysis_list = ['topologyfilter']\n",
    "    run(wd, analysis_list, parameters, override = 1)\n",
    "    \n",
    "    \n",
    "\n",
    "#output_fileformat = ['Ch_8_initial', 'Ch_4_initial']\n",
    "#fileformat = ['20161128_Ch_8_Ch_4_0160', '20161128_Ch_8_Ch_4_0160']\n",
    "#stitch_order = ([3,4,15,16,17,18,8,9,10,11,1,2,3,4], [3,4,18,19,20,21,11,12,13,14,4,5,6,7])"
   ]
  }
 ],
 "metadata": {
  "anaconda-cloud": {},
  "kernelspec": {
   "display_name": "Python [Root]",
   "language": "python",
   "name": "Python [Root]"
  },
  "language_info": {
   "codemirror_mode": {
    "name": "ipython",
    "version": 3
   },
   "file_extension": ".py",
   "mimetype": "text/x-python",
   "name": "python",
   "nbconvert_exporter": "python",
   "pygments_lexer": "ipython3",
   "version": "3.5.2"
  }
 },
 "nbformat": 4,
 "nbformat_minor": 0
}
